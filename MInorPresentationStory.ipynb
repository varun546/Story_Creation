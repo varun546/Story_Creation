{
  "cells": [
    {
      "cell_type": "markdown",
      "metadata": {
        "id": "view-in-github",
        "colab_type": "text"
      },
      "source": [
        "<a href=\"https://colab.research.google.com/github/the-rebooted-coder/Dream-Visualiser/blob/main/MInorPresentationStory.ipynb\" target=\"_parent\"><img src=\"https://colab.research.google.com/assets/colab-badge.svg\" alt=\"Open In Colab\"/></a>"
      ]
    },
    {
      "cell_type": "code",
      "execution_count": null,
      "metadata": {
        "id": "G3FZLj2LNH6j",
        "outputId": "2132e1ad-19c9-4d6b-88a8-783fc12374dc",
        "colab": {
          "base_uri": "https://localhost:8080/"
        }
      },
      "outputs": [
        {
          "output_type": "stream",
          "name": "stdout",
          "text": [
            "  Building wheel for en-core-web-sm (setup.py) ... \u001b[?25l\u001b[?25hdone\n",
            "  Created wheel for en-core-web-sm: filename=en_core_web_sm-2.3.1-py3-none-any.whl size=12047105 sha256=73cc09910e21b0bb00445dc0a483f588ee9b4c30affbf4500db712bcad584e8e\n",
            "  Stored in directory: /tmp/pip-ephem-wheel-cache-lmjbbe5t/wheels/b7/0d/f0/7ecae8427c515065d75410989e15e5785dd3975fe06e795cd9\n",
            "Successfully built en-core-web-sm\n",
            "Installing collected packages: en-core-web-sm\n",
            "  Attempting uninstall: en-core-web-sm\n",
            "    Found existing installation: en-core-web-sm 2.2.5\n",
            "    Uninstalling en-core-web-sm-2.2.5:\n",
            "      Successfully uninstalled en-core-web-sm-2.2.5\n",
            "Successfully installed en-core-web-sm-2.3.1\n",
            "\u001b[38;5;2m✔ Download and installation successful\u001b[0m\n",
            "You can now load the model via spacy.load('en_core_web_sm')\n",
            "  % Total    % Received % Xferd  Average Speed   Time    Time     Time  Current\n",
            "                                 Dload  Upload   Total   Spent    Left  Speed\n",
            "100  2834  100  2834    0     0  14683      0 --:--:-- --:--:-- --:--:-- 14683\n"
          ]
        }
      ],
      "source": [
        "!pip install markovify\n",
        "!pip install tracery\n",
        "!pip install spacy==2.3.2\n",
        "!python -m spacy download en_core_web_sm\n",
        "!curl -L -O https://raw.githubusercontent.com/the-rebooted-coder/Dream-Visualiser/main/MinorDataset.tsv"
      ]
    },
    {
      "cell_type": "code",
      "execution_count": null,
      "metadata": {
        "scrolled": true,
        "id": "npegDZPHNH6m"
      },
      "outputs": [],
      "source": [
        "sentences = []\n",
        "for line in open(\"MinorDataset.tsv\"):\n",
        "    line = line.strip()\n",
        "    items = line.split(\"\\t\")\n",
        "    sentences.append(\n",
        "        {'title': items[0],\n",
        "         'index': int(items[1]),\n",
        "         'total': int(items[2]),\n",
        "         'text': items[3]})"
      ]
    },
    {
      "cell_type": "code",
      "execution_count": null,
      "metadata": {
        "id": "KEyCN9tqNH6o"
      },
      "outputs": [],
      "source": [
        "import random"
      ]
    },
    {
      "cell_type": "code",
      "execution_count": null,
      "metadata": {
        "id": "bpi9EPVPNH6p",
        "outputId": "7196de0e-f89c-4d87-83cd-8a6de5677b53",
        "colab": {
          "base_uri": "https://localhost:8080/"
        }
      },
      "outputs": [
        {
          "output_type": "execute_result",
          "data": {
            "text/plain": [
              "{'index': 4,\n",
              " 'text': 'Harry finally went after his day with a smile.',\n",
              " 'title': 'The JUET Cafeteria',\n",
              " 'total': 15}"
            ]
          },
          "metadata": {},
          "execution_count": 4
        }
      ],
      "source": [
        "random.choice(sentences)"
      ]
    },
    {
      "cell_type": "markdown",
      "metadata": {
        "id": "smXdB3VCNH6r"
      },
      "source": [
        "## Natural language processing"
      ]
    },
    {
      "cell_type": "code",
      "execution_count": null,
      "metadata": {
        "id": "VcrZKngpNH6t"
      },
      "outputs": [],
      "source": [
        "import spacy\n",
        "nlp = spacy.load('en_core_web_sm')"
      ]
    },
    {
      "cell_type": "code",
      "execution_count": null,
      "metadata": {
        "id": "nPf-i4YLNH6v",
        "outputId": "91b5f271-6cfd-47af-e13e-a849cfdf7a50",
        "colab": {
          "base_uri": "https://localhost:8080/"
        }
      },
      "outputs": [
        {
          "output_type": "stream",
          "name": "stdout",
          "text": [
            "0 24\n"
          ]
        }
      ],
      "source": [
        "words = []\n",
        "noun_chunks = []\n",
        "entities = []\n",
        "# only use 1000 sentences sampled at random by default; comment out this `for...`\n",
        "# uncomment the `for...` beneath to use every sentence in the corpus.\n",
        "for i, sent in enumerate(random.sample(sentences, 24)):\n",
        "#for i, sent in enumerate(sentences):\n",
        "    if i % 100 == 0:\n",
        "        print(i, len(sentences))\n",
        "    doc = nlp(sent['text'])\n",
        "    words.extend([w for w in list(doc) if w.is_alpha])\n",
        "    noun_chunks.extend(list(doc.noun_chunks))\n",
        "    entities.extend(list(doc.ents))"
      ]
    },
    {
      "cell_type": "markdown",
      "metadata": {
        "id": "q7qqnVWzNH6v"
      },
      "source": [
        "Just to make sure it worked, print out ten random words:"
      ]
    },
    {
      "cell_type": "code",
      "execution_count": null,
      "metadata": {
        "id": "kJYYTcSdNH6w",
        "outputId": "f323b14f-c0a1-4049-e7ec-e86b6745d16d",
        "colab": {
          "base_uri": "https://localhost:8080/"
        }
      },
      "outputs": [
        {
          "output_type": "stream",
          "name": "stdout",
          "text": [
            "and\n",
            "that\n",
            "out\n",
            "up\n",
            "post\n",
            "The\n",
            "of\n",
            "at\n",
            "different\n",
            "was\n"
          ]
        }
      ],
      "source": [
        "for item in random.sample(words, 10):\n",
        "    print(item.text)"
      ]
    },
    {
      "cell_type": "markdown",
      "metadata": {
        "id": "X0sSlOMZNH6w"
      },
      "source": [
        "Ten random noun chunks:"
      ]
    },
    {
      "cell_type": "code",
      "execution_count": null,
      "metadata": {
        "id": "XfX9Fx-nNH6w",
        "outputId": "932deda0-2ba3-4f1c-c6ed-238cfee2ca66",
        "colab": {
          "base_uri": "https://localhost:8080/"
        }
      },
      "outputs": [
        {
          "output_type": "stream",
          "name": "stdout",
          "text": [
            "The story\n",
            "studies\n",
            "JUET\n",
            "She\n",
            "life\n",
            "a friend\n",
            "the performance\n",
            "it\n",
            "teas\n",
            "his day\n"
          ]
        }
      ],
      "source": [
        "for item in random.sample(noun_chunks, 10):\n",
        "    print(item.text)"
      ]
    },
    {
      "cell_type": "markdown",
      "metadata": {
        "id": "Ufc13_8yNH6x"
      },
      "source": [
        "Ten random entities:"
      ]
    },
    {
      "cell_type": "code",
      "execution_count": null,
      "metadata": {
        "id": "ukwo9cFbNH6x",
        "outputId": "e7b97172-3251-4e44-b035-4949f3375473",
        "colab": {
          "base_uri": "https://localhost:8080/"
        }
      },
      "outputs": [
        {
          "output_type": "stream",
          "name": "stdout",
          "text": [
            "JUET University\n",
            "Sunday\n",
            "Harry\n",
            "the day\n",
            "Jaypee University\n",
            "JUET\n",
            "the Nehru Plaza\n",
            "the Jaypee University Cafetreria's\n",
            "one\n",
            "his day\n"
          ]
        }
      ],
      "source": [
        "for item in random.sample(entities, 10):\n",
        "    print(item.text)"
      ]
    },
    {
      "cell_type": "code",
      "execution_count": null,
      "metadata": {
        "id": "M3nIytXuNH6y"
      },
      "outputs": [],
      "source": [
        "subjects = [chunk for chunk in noun_chunks if chunk.root.dep_ == 'nsubj']\n",
        "objects = [chunk for chunk in noun_chunks if chunk.root.dep_ == 'dobj']"
      ]
    },
    {
      "cell_type": "code",
      "execution_count": null,
      "metadata": {
        "id": "4vaxLMxGNH6y",
        "outputId": "84ae5ed5-022c-40be-f1f9-736c2a9dc74e",
        "colab": {
          "base_uri": "https://localhost:8080/"
        }
      },
      "outputs": [
        {
          "output_type": "execute_result",
          "data": {
            "text/plain": [
              "[the event, who, He]"
            ]
          },
          "metadata": {},
          "execution_count": 11
        }
      ],
      "source": [
        "random.sample(subjects, 3)"
      ]
    },
    {
      "cell_type": "code",
      "execution_count": null,
      "metadata": {
        "id": "kGP0o0_3NH6y",
        "outputId": "f3ca2d6a-7ace-4a31-a143-e4ac1f9d9373",
        "colab": {
          "base_uri": "https://localhost:8080/"
        }
      },
      "outputs": [
        {
          "output_type": "execute_result",
          "data": {
            "text/plain": [
              "[a lot, a friend, the university, any decisions, the university]"
            ]
          },
          "metadata": {},
          "execution_count": 12
        }
      ],
      "source": [
        "random.sample(objects, 5)"
      ]
    },
    {
      "cell_type": "code",
      "execution_count": null,
      "metadata": {
        "id": "qbCJxtLeNH6z"
      },
      "outputs": [],
      "source": [
        "nouns = [w for w in words if w.pos_ == \"NOUN\"]\n",
        "verbs = [w for w in words if w.pos_ == \"VERB\"]\n",
        "past_tense_verbs = [w for w in words if w.tag_ == 'VBD']\n",
        "adjs = [w for w in words if w.tag_ == \"JJ\"]\n",
        "advs = [w for w in words if w.pos_ == \"ADV\"]"
      ]
    },
    {
      "cell_type": "markdown",
      "metadata": {
        "id": "r3OfKnKNNH6z"
      },
      "source": [
        "And now we can print out a random sample of any of these:"
      ]
    },
    {
      "cell_type": "code",
      "execution_count": null,
      "metadata": {
        "id": "asEMzBYVNH6z",
        "outputId": "c6cd4d2e-5e6c-4d70-fc47-5ea6021a3738",
        "colab": {
          "base_uri": "https://localhost:8080/"
        }
      },
      "outputs": [
        {
          "output_type": "stream",
          "name": "stdout",
          "text": [
            "professors\n",
            "friend\n",
            "dhoklas\n",
            "work\n",
            "goodbye\n",
            "university\n",
            "morning\n",
            "story\n",
            "eras\n",
            "cafe\n"
          ]
        }
      ],
      "source": [
        "for item in random.sample(nouns, 10): # change \"nouns\" to \"verbs\" or \"adjs\" or \"advs\" to sample from those lists!\n",
        "    print(item.text)"
      ]
    },
    {
      "cell_type": "code",
      "execution_count": null,
      "metadata": {
        "id": "AyRK9uk4NH60"
      },
      "outputs": [],
      "source": [
        "people = [e for e in entities if e.label_ == \"PERSON\"]\n",
        "locations = [e for e in entities if e.label_ == \"LOC\"]\n",
        "times = [e for e in entities if e.label_ == \"TIME\"]"
      ]
    },
    {
      "cell_type": "markdown",
      "metadata": {
        "id": "xHDj7dPDNH60"
      },
      "source": [
        "And then you can print out a random sample:"
      ]
    },
    {
      "cell_type": "code",
      "execution_count": null,
      "metadata": {
        "id": "9fWmGPRgNH60",
        "outputId": "5de08c2e-b3c5-4289-f870-7cbaa6e8d640",
        "colab": {
          "base_uri": "https://localhost:8080/"
        }
      },
      "outputs": [
        {
          "output_type": "stream",
          "name": "stdout",
          "text": [
            "Spandan\n",
            "Yaseer\n",
            "Harry\n"
          ]
        }
      ],
      "source": [
        "for item in random.sample(people, 3): # change \"times\" to \"people\" or \"locations\" to sample those lists\n",
        "    print(item.text.strip())"
      ]
    },
    {
      "cell_type": "code",
      "execution_count": null,
      "metadata": {
        "id": "r0dQOS2VNH61"
      },
      "outputs": [],
      "source": [
        "from collections import Counter\n",
        "word_count = Counter([w.text for w in words])"
      ]
    },
    {
      "cell_type": "code",
      "execution_count": null,
      "metadata": {
        "id": "_KQL5gmLNH61",
        "outputId": "a97321dc-fa64-41bf-fbee-cc90186143cb",
        "colab": {
          "base_uri": "https://localhost:8080/"
        }
      },
      "outputs": [
        {
          "output_type": "execute_result",
          "data": {
            "text/plain": [
              "3"
            ]
          },
          "metadata": {},
          "execution_count": 18
        }
      ],
      "source": [
        "word_count['They']"
      ]
    },
    {
      "cell_type": "markdown",
      "metadata": {
        "id": "3_-YzX6pNH61"
      },
      "source": [
        "... and also tells us which words are most common:"
      ]
    },
    {
      "cell_type": "code",
      "execution_count": null,
      "metadata": {
        "id": "JRuNg4llNH62",
        "outputId": "87290863-3dc1-477f-b156-eecef5d30b31",
        "colab": {
          "base_uri": "https://localhost:8080/"
        }
      },
      "outputs": [
        {
          "output_type": "execute_result",
          "data": {
            "text/plain": [
              "[('the', 19),\n",
              " ('and', 16),\n",
              " ('a', 13),\n",
              " ('The', 10),\n",
              " ('university', 7),\n",
              " ('to', 7),\n",
              " ('of', 7),\n",
              " ('her', 6),\n",
              " ('that', 6),\n",
              " ('is', 6)]"
            ]
          },
          "metadata": {},
          "execution_count": 19
        }
      ],
      "source": [
        "word_count.most_common(10)"
      ]
    },
    {
      "cell_type": "markdown",
      "metadata": {
        "id": "nf2ouT23NH62"
      },
      "source": [
        "You can make a counter for any of the other lists we've worked with using the same syntax. Just make up a unique variable name on the left of the `=` sign and put the name of the list you want to count in the brackets to the right (replacing `words`). E.g., to find the most common people:"
      ]
    },
    {
      "cell_type": "code",
      "execution_count": null,
      "metadata": {
        "id": "YhVinhaPNH62"
      },
      "outputs": [],
      "source": [
        "people_count = Counter([w.text for w in people])"
      ]
    },
    {
      "cell_type": "code",
      "execution_count": null,
      "metadata": {
        "scrolled": true,
        "id": "U9Z4-UEPNH62",
        "outputId": "156fa920-025a-4ba2-8f0a-f3b208f64824",
        "colab": {
          "base_uri": "https://localhost:8080/"
        }
      },
      "outputs": [
        {
          "output_type": "execute_result",
          "data": {
            "text/plain": [
              "[('Spandan', 2), ('Harry', 2), ('Yaseer', 1)]"
            ]
          },
          "metadata": {},
          "execution_count": 22
        }
      ],
      "source": [
        "people_count.most_common(3)"
      ]
    },
    {
      "cell_type": "markdown",
      "metadata": {
        "id": "mg2VmQQbNH62"
      },
      "source": [
        "The most common past-tense verbs:"
      ]
    },
    {
      "cell_type": "code",
      "execution_count": null,
      "metadata": {
        "id": "6NWTOU47NH63"
      },
      "outputs": [],
      "source": [
        "vbd_count = Counter([w.text for w in past_tense_verbs])"
      ]
    },
    {
      "cell_type": "code",
      "execution_count": null,
      "metadata": {
        "id": "Wvt-sBaHNH63",
        "outputId": "67c209f1-3719-4fc7-abb8-c35b07ca9a0c",
        "colab": {
          "base_uri": "https://localhost:8080/"
        }
      },
      "outputs": [
        {
          "output_type": "execute_result",
          "data": {
            "text/plain": [
              "[('went', 4),\n",
              " ('were', 3),\n",
              " ('met', 3),\n",
              " ('was', 3),\n",
              " ('ended', 2),\n",
              " ('joined', 1),\n",
              " ('enjoyed', 1),\n",
              " ('cheered', 1),\n",
              " ('shared', 1),\n",
              " ('came', 1),\n",
              " ('became', 1),\n",
              " ('had', 1)]"
            ]
          },
          "metadata": {},
          "execution_count": 24
        }
      ],
      "source": [
        "vbd_count.most_common(12)"
      ]
    },
    {
      "cell_type": "code",
      "execution_count": null,
      "metadata": {
        "id": "W4H1hqRUNH63"
      },
      "outputs": [],
      "source": [
        "def save_counter_tsv(filename, counter, limit=1000):\n",
        "    with open(filename, \"w\") as outfile:\n",
        "        outfile.write(\"key\\tvalue\\n\")\n",
        "        for item, count in counter.most_common():\n",
        "            outfile.write(item.strip() + \"\\t\" + str(count) + \"\\n\")    "
      ]
    },
    {
      "cell_type": "code",
      "execution_count": null,
      "metadata": {
        "id": "Zlv3MsuFNH63"
      },
      "outputs": [],
      "source": [
        "save_counter_tsv(\"minor-p2.tsv\", word_count, 100)"
      ]
    },
    {
      "cell_type": "code",
      "execution_count": null,
      "metadata": {
        "id": "a-Fq4ZazNH65"
      },
      "outputs": [],
      "source": [
        "import tracery\n",
        "from tracery.modifiers import base_english"
      ]
    },
    {
      "cell_type": "code",
      "execution_count": null,
      "metadata": {
        "id": "e0mHKZMSNH65"
      },
      "outputs": [],
      "source": [
        "rules = {\n",
        "    \"subject\": [w.text for w in subjects],\n",
        "    \"object\": [w.text for w in objects],\n",
        "    \"verb\": [w.text for w in past_tense_verbs if w.text not in ('was', 'were', 'went')], # exclude common irregular verbs\n",
        "    \"adj\": [w.text for w in adjs],\n",
        "    \"people\": [w.text for w in people],\n",
        "    \"loc\": [w.text for w in locations],\n",
        "    \"time\": [w.text for w in times],\n",
        "    \"origin\": \"#scene#\\n\\n[charA:#subject#][charB:#subject#][prop:#object#]#sentences#\",\n",
        "    \"scene\": \"SCENE: #loc#, #time.lowercase#\",\n",
        "    \"sentences\": [\n",
        "        \"#sentence#\\n#sentence#\",\n",
        "        \"#sentence#\\n#sentence#\\n#sentence#\",\n",
        "        \"#sentence#\\n#sentence#\\n#sentence#\\n#sentence#\"\n",
        "    ],\n",
        "    \"sentence\": [\n",
        "        \"#charA.capitalize# #verb# #prop#.\",\n",
        "        \"#charB.capitalize# #verb# #prop#.\",\n",
        "        \"#prop.capitalize# became #adj#.\",\n",
        "        \"#charA.capitalize# and #charB# greeted each other.\",\n",
        "        \"'Did you hear about #object.lowercase#?' said #charA#.\",\n",
        "        \"'#subject.capitalize# is #adj#,' said #charB#.\",\n",
        "        \"#charA.capitalize# and #charB# #verb# #object#.\",\n",
        "        \"#charA.capitalize# and #charB# looked at each other.\",\n",
        "        \"#sentence#\\n#sentence#\"\n",
        "    ]\n",
        "}"
      ]
    },
    {
      "cell_type": "code",
      "execution_count": null,
      "metadata": {
        "id": "TWR7NQsbNH65"
      },
      "outputs": [],
      "source": [
        "grammar = tracery.Grammar(rules)\n",
        "grammar.add_modifiers(base_english)"
      ]
    },
    {
      "cell_type": "markdown",
      "metadata": {
        "id": "SQA5AxdrNH66"
      },
      "source": [
        "## Markov chain text generation"
      ]
    },
    {
      "cell_type": "code",
      "execution_count": null,
      "metadata": {
        "scrolled": true,
        "id": "K3PcqK_eNH67"
      },
      "outputs": [],
      "source": [
        "!pip install markovify"
      ]
    },
    {
      "cell_type": "code",
      "execution_count": null,
      "metadata": {
        "scrolled": true,
        "id": "2rTyeRvHNH67"
      },
      "outputs": [],
      "source": [
        "import markovify"
      ]
    },
    {
      "cell_type": "code",
      "execution_count": null,
      "metadata": {
        "id": "ZGZdL04jNH67"
      },
      "outputs": [],
      "source": [
        "all_text = [item['text'] for item in sentences]"
      ]
    },
    {
      "cell_type": "code",
      "execution_count": null,
      "metadata": {
        "scrolled": true,
        "id": "C_HpB4yLNH68"
      },
      "outputs": [],
      "source": [
        "all_text_gen = markovify.Text(all_text)"
      ]
    },
    {
      "cell_type": "code",
      "execution_count": null,
      "metadata": {
        "scrolled": true,
        "id": "MjGOUVHvNH68",
        "outputId": "e49190a5-4319-4d9a-b734-91b5d57b12d6",
        "colab": {
          "base_uri": "https://localhost:8080/"
        }
      },
      "outputs": [
        {
          "output_type": "stream",
          "name": "stdout",
          "text": [
            "She also mentions that yes surely she should join the university for her post-graduation.\n"
          ]
        }
      ],
      "source": [
        "print(all_text_gen.make_sentence())"
      ]
    },
    {
      "cell_type": "markdown",
      "metadata": {
        "id": "48c3dIhYNH68"
      },
      "source": [
        "The `.make_short_sentence()` method allows you to specify a maximum length for the generated sentence:"
      ]
    },
    {
      "cell_type": "code",
      "execution_count": null,
      "metadata": {
        "scrolled": true,
        "id": "0w4S3u4iNH69",
        "outputId": "f81d124f-5a93-4b0d-d0d2-e6f073689d59",
        "colab": {
          "base_uri": "https://localhost:8080/"
        }
      },
      "outputs": [
        {
          "output_type": "stream",
          "name": "stdout",
          "text": [
            "She has a friend who is interested in meeting her.\n"
          ]
        }
      ],
      "source": [
        "print(all_text_gen.make_short_sentence(50))"
      ]
    },
    {
      "cell_type": "code",
      "execution_count": null,
      "metadata": {
        "scrolled": true,
        "id": "gYWOTso5NH69",
        "outputId": "f395ae25-8e43-46c5-811a-4f1f9d263438",
        "colab": {
          "base_uri": "https://localhost:8080/"
        }
      },
      "outputs": [
        {
          "output_type": "stream",
          "name": "stdout",
          "text": [
            "None\n"
          ]
        }
      ],
      "source": [
        "print(all_text_gen.make_short_sentence(40, tries=100))"
      ]
    },
    {
      "cell_type": "code",
      "execution_count": null,
      "metadata": {
        "scrolled": true,
        "id": "GjoVtHXQNH69",
        "outputId": "8335c7dc-a2c8-423c-8f82-971a31608157",
        "colab": {
          "base_uri": "https://localhost:8080/"
        }
      },
      "outputs": [
        {
          "output_type": "stream",
          "name": "stdout",
          "text": [
            "They shared goodbye and never met again.\n"
          ]
        }
      ],
      "source": [
        "print(all_text_gen.make_short_sentence(40, test_output=False))"
      ]
    },
    {
      "cell_type": "markdown",
      "metadata": {
        "id": "vKb3NsMtNH69"
      },
      "source": [
        "### Changing the order"
      ]
    },
    {
      "cell_type": "code",
      "execution_count": null,
      "metadata": {
        "scrolled": true,
        "id": "W5CC4-vyNH6-"
      },
      "outputs": [],
      "source": [
        "gen_1 = markovify.Text(all_text, state_size=1)\n",
        "gen_4 = markovify.Text(all_text, state_size=20)"
      ]
    },
    {
      "cell_type": "code",
      "execution_count": null,
      "metadata": {
        "scrolled": true,
        "id": "08i6y0JiNH6-",
        "outputId": "09f6805d-b938-45a2-fe71-ce5de36ffbeb",
        "colab": {
          "base_uri": "https://localhost:8080/"
        }
      },
      "outputs": [
        {
          "output_type": "stream",
          "name": "stdout",
          "text": [
            "order 1\n",
            "The protagonist visits the professors in the Jaypee University Cafetreria's four friends met Harry a while\n",
            "\n",
            "order 4\n",
            "Spandan also joined both of them and then they together ended up at the park.\n"
          ]
        }
      ],
      "source": [
        "print(\"order 1\")\n",
        "print(gen_1.make_sentence(test_output=False))\n",
        "print()\n",
        "print(\"order 4\")\n",
        "print(gen_4.make_sentence(test_output=False))"
      ]
    },
    {
      "cell_type": "markdown",
      "metadata": {
        "id": "2wiXM-78NH6-"
      },
      "source": [
        "### Changing the level"
      ]
    },
    {
      "cell_type": "code",
      "execution_count": null,
      "metadata": {
        "scrolled": true,
        "id": "jULDZXAcNH6-"
      },
      "outputs": [],
      "source": [
        "class SentencesByChar(markovify.Text):\n",
        "    def word_split(self, sentence):\n",
        "        return list(sentence)\n",
        "    def word_join(self, words):\n",
        "        return \"\".join(words)"
      ]
    },
    {
      "cell_type": "code",
      "execution_count": null,
      "metadata": {
        "scrolled": true,
        "id": "ahd97GdENH6_"
      },
      "outputs": [],
      "source": [
        "gen_char = SentencesByChar(all_text, state_size=7)"
      ]
    },
    {
      "cell_type": "code",
      "execution_count": null,
      "metadata": {
        "scrolled": false,
        "id": "RfJEEePLNH7A",
        "outputId": "a3a7c4a1-5af6-474e-c6fb-2e37b8ef3b09",
        "colab": {
          "base_uri": "https://localhost:8080/"
        }
      },
      "outputs": [
        {
          "output_type": "stream",
          "name": "stdout",
          "text": [
            "Harry finally went ahead to find Spandan also joined both of the protagonist, a students of Jaypee University has been under dispute because some student from JUET, who is interested in meeting her.\n"
          ]
        }
      ],
      "source": [
        "print(gen_char.make_sentence(test_output=False))"
      ]
    },
    {
      "cell_type": "markdown",
      "metadata": {
        "id": "YrHz5d1dNH7A"
      },
      "source": [
        "### Thinking about structure\n"
      ]
    },
    {
      "cell_type": "code",
      "execution_count": null,
      "metadata": {
        "id": "ZnTlV6LcNH7A"
      },
      "outputs": [],
      "source": [
        "beginnings = [line['text'] for line in sentences if line['index'] == 0]"
      ]
    },
    {
      "cell_type": "code",
      "execution_count": null,
      "metadata": {
        "id": "1lGLnxHFNH7A",
        "outputId": "df1a05c6-2729-4d9d-b121-a9d2d0237970",
        "colab": {
          "base_uri": "https://localhost:8080/"
        }
      },
      "outputs": [
        {
          "output_type": "execute_result",
          "data": {
            "text/plain": [
              "['The story is about the tuck  JUET University. The story starts with the protagonist, a student from JUET, who is interested in joining the university for her post-graduation.']"
            ]
          },
          "metadata": {},
          "execution_count": 45
        }
      ],
      "source": [
        "random.sample(beginnings, 1)"
      ]
    },
    {
      "cell_type": "markdown",
      "metadata": {
        "id": "kO_uR3KTNH7A"
      },
      "source": [
        "And endings are sentences that come last in the plot (i.e., their index is one less than the total number of sentences):"
      ]
    },
    {
      "cell_type": "code",
      "execution_count": null,
      "metadata": {
        "id": "QhrMKPm3NH7A"
      },
      "outputs": [],
      "source": [
        "endings = [line['text'] for line in sentences if line['index'] == line['total'] -1]"
      ]
    },
    {
      "cell_type": "markdown",
      "metadata": {
        "id": "b0MYEwh3NH7B"
      },
      "source": [
        "And \"middles\" are anything in between:"
      ]
    },
    {
      "cell_type": "code",
      "execution_count": null,
      "metadata": {
        "id": "j6tKmXU-NH7B"
      },
      "outputs": [],
      "source": [
        "middles = [line['text'] for line in sentences if 0 < line['index'] < line['total'] - 1]"
      ]
    },
    {
      "cell_type": "code",
      "execution_count": null,
      "metadata": {
        "id": "719kAbA4NH7B",
        "outputId": "57bf2002-e324-4667-8607-64c52a06309a",
        "colab": {
          "base_uri": "https://localhost:8080/"
        }
      },
      "outputs": [
        {
          "output_type": "execute_result",
          "data": {
            "text/plain": [
              "['On a morning sunrise Manvendra went near the lake',\n",
              " 'On this night, the university would play music from different cultures and different eras.',\n",
              " 'She meets one of her professors who mentions that yes surely she should join the university as these are myths',\n",
              " 'This year Yaseer came to perform some of his best songs',\n",
              " 'The preparations are being done by the students of Jaypee University.']"
            ]
          },
          "metadata": {},
          "execution_count": 51
        }
      ],
      "source": [
        "random.sample(middles, 5)"
      ]
    },
    {
      "cell_type": "code",
      "execution_count": null,
      "metadata": {
        "id": "3RHeghwnNH7B"
      },
      "outputs": [],
      "source": [
        "beginning_gen = markovify.Text(beginnings)\n",
        "middle_gen = markovify.Text(middles)"
      ]
    },
    {
      "cell_type": "markdown",
      "metadata": {
        "id": "lXd-4045NH7B"
      },
      "source": [
        "Now you can generate tiny narratives by producing a beginning sentence, a middle sentence, and an ending sentence:"
      ]
    },
    {
      "cell_type": "code",
      "execution_count": null,
      "metadata": {
        "id": "5J2eiPW2NH7C",
        "outputId": "7ee75297-0145-406e-a57d-463622b5a507",
        "colab": {
          "base_uri": "https://localhost:8080/"
        }
      },
      "outputs": [
        {
          "output_type": "stream",
          "name": "stdout",
          "text": [
            "None\n",
            "The protagonist decides to meet some of his best songs\n"
          ]
        }
      ],
      "source": [
        "print(beginning_gen.make_short_sentence(100))\n",
        "print(middle_gen.make_short_sentence(100))"
      ]
    },
    {
      "cell_type": "markdown",
      "metadata": {
        "id": "t0zHtN2-NH7C"
      },
      "source": [
        "### Combining models"
      ]
    },
    {
      "cell_type": "code",
      "execution_count": null,
      "metadata": {
        "scrolled": true,
        "id": "6T2bhVfMNH7C"
      },
      "outputs": [],
      "source": [
        "combo = markovify.combine([beginning_gen, middle_gen], [2, 10])"
      ]
    },
    {
      "cell_type": "code",
      "execution_count": null,
      "metadata": {
        "scrolled": true,
        "id": "hx1q7GGZNH7C",
        "outputId": "f6c7f48e-cdcf-4abb-b15f-125040324cfe",
        "colab": {
          "base_uri": "https://localhost:8080/"
        }
      },
      "outputs": [
        {
          "output_type": "stream",
          "name": "stdout",
          "text": [
            "They went together to the Nehru Plaza and sat over there and is also interested in meeting her.\n"
          ]
        }
      ],
      "source": [
        "print(combo.make_short_sentence(120))"
      ]
    },
    {
      "cell_type": "markdown",
      "metadata": {
        "id": "6T7Hss3yNH7D"
      },
      "source": [
        "## Prepping the corpus for fine-tuning a large language model"
      ]
    },
    {
      "cell_type": "code",
      "execution_count": null,
      "metadata": {
        "id": "8His1-dlNH7D"
      },
      "outputs": [],
      "source": [
        "out = []\n",
        "last_title = None\n",
        "for sent in sentences[:3]:\n",
        "    if sent['title'] != last_title:\n",
        "        out.append(\"\")\n",
        "        out.append(\"[BEGIN STORY]\")\n",
        "        out.append(sent['title'])\n",
        "        out.append(\"\")\n",
        "        last_title = sent['title']\n",
        "    out.append(sent['text'])"
      ]
    },
    {
      "cell_type": "code",
      "execution_count": null,
      "metadata": {
        "id": "_neUpX79NH7D",
        "outputId": "604e66a6-4be3-46f8-8c60-3d54e3b2c9fe",
        "colab": {
          "base_uri": "https://localhost:8080/"
        }
      },
      "outputs": [
        {
          "output_type": "execute_result",
          "data": {
            "text/plain": [
              "['',\n",
              " '[BEGIN STORY]',\n",
              " '\\ufeffThe Disputed Tuck Shop',\n",
              " '',\n",
              " 'The story is about the tuck  JUET University. The story starts with the protagonist, a student from JUET, who is interested in joining the university for her post-graduation.',\n",
              " '',\n",
              " '[BEGIN STORY]',\n",
              " 'The Disputed Tuck Shop',\n",
              " '',\n",
              " 'She meets Varun there. Then they go together to meet Spandan, and never meet again.']"
            ]
          },
          "metadata": {},
          "execution_count": 81
        }
      ],
      "source": [
        "out[:10]"
      ]
    },
    {
      "cell_type": "code",
      "execution_count": null,
      "metadata": {
        "id": "PYZhs6cJNH7E"
      },
      "outputs": [],
      "source": [
        "with open(\"story_training.txt\", \"w\") as fh:\n",
        "    fh.write(\"\\n\".join(out))"
      ]
    }
  ],
  "metadata": {
    "kernelspec": {
      "display_name": "Python 3",
      "language": "python",
      "name": "python3"
    },
    "language_info": {
      "codemirror_mode": {
        "name": "ipython",
        "version": 3
      },
      "file_extension": ".py",
      "mimetype": "text/x-python",
      "name": "python",
      "nbconvert_exporter": "python",
      "pygments_lexer": "ipython3",
      "version": "3.8.6"
    },
    "colab": {
      "name": "MInorPresentationStory",
      "provenance": [],
      "collapsed_sections": [
        "SbstmAf1NH6x",
        "DVkvVbq4NH6z",
        "4VRp-6UTNH60",
        "vKb3NsMtNH69",
        "2wiXM-78NH6-",
        "t0zHtN2-NH7C"
      ],
      "include_colab_link": true
    }
  },
  "nbformat": 4,
  "nbformat_minor": 0
}
